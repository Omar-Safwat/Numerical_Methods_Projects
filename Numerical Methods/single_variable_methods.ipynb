{
 "cells": [
  {
   "cell_type": "markdown",
   "id": "be093fa4",
   "metadata": {},
   "source": [
    "Implementations of the following numerical algorithms:\n",
    "\n",
    "* Newton Raphson method\n",
    "* Bisection method\n",
    "* Fixed point method"
   ]
  },
  {
   "cell_type": "code",
   "execution_count": 1,
   "id": "633288d7",
   "metadata": {},
   "outputs": [],
   "source": [
    "import matplotlib.pyplot as plt\n",
    "import numpy as np\n",
    "from math import log, exp"
   ]
  },
  {
   "cell_type": "code",
   "execution_count": 2,
   "id": "70aae8fe",
   "metadata": {},
   "outputs": [],
   "source": [
    "# Defining functions\n",
    "# Question 1\n",
    "def func1(x):\n",
    "    return(2 * x **2 + 6 * x + 4)\n",
    "\n",
    "def func1_2(x):\n",
    "    return((-4 - 2 * x) / 6)\n",
    "\n",
    "# Question 2\n",
    "def func2(x):\n",
    "    if type(x) != 'float' or type(x) != 'int':\n",
    "        return(np.log(50 * x) + 2)\n",
    "    else:\n",
    "        return(log(50 * x + 2))\n",
    "\n",
    "# Question 3\n",
    "def func3(x):\n",
    "    if type(x) != 'float' or type(x) != 'int':\n",
    "        return(np.exp(x) - 5 * x + 2)\n",
    "    else:\n",
    "        return(exp(x) - 5 * x + 2)\n",
    "    \n",
    "# Question 4\n",
    "def func4(x):\n",
    "    return(x ** 3 + 2 * x ** 2 + 10 * x - 20)"
   ]
  },
  {
   "cell_type": "code",
   "execution_count": 4,
   "id": "07246591",
   "metadata": {},
   "outputs": [],
   "source": [
    "class Counter:\n",
    "    \"\"\"Class to count iterations taken by each algorithm\"\"\"\n",
    "    \n",
    "    def __init__(self):\n",
    "        self.iter = 0\n",
    "    \n",
    "    def count(self):\n",
    "        self.iter += 1\n",
    "    \n",
    "    def get_count(self):\n",
    "        return(self.iter)\n",
    "\n",
    "# Define Methods\n",
    "def bisection_method(func, left, right, counter):\n",
    "    \"\"\"\n",
    "    Solves an equation numerically using bisection algorithm\n",
    "    \n",
    "    Arguments:\n",
    "    func = function to solve\n",
    "    left = left interval value\n",
    "    right = right interval value\n",
    "    counter = object of class Counter\n",
    "    \n",
    "    returns:\n",
    "    root\n",
    "    \"\"\"\n",
    "    counter.count()\n",
    "    eps = 10 ** -5 # Tolerance\n",
    "    middle = (left + right) / 2\n",
    "    f_middle = func(middle)\n",
    "    f_left = func(left)\n",
    "    \n",
    "    # Base case\n",
    "    if abs(f_middle) <= eps:\n",
    "        return middle\n",
    "    \n",
    "    elif f_middle * f_left < 0:\n",
    "        return(bisection_method(func, left, middle, counter))\n",
    "    else:\n",
    "        return(bisection_method(func, middle, right, counter))\n",
    "\n",
    "\n",
    "def fixed_point(func, guess, counter):\n",
    "    \"\"\"\n",
    "    Solves an equation numerically using fixed point algorithm\n",
    "    \n",
    "    Arguments:\n",
    "    func = function to solve\n",
    "    guess\n",
    "    counter = object of class Counter\n",
    "    \n",
    "    returns:\n",
    "    root\n",
    "    \"\"\"\n",
    "    counter.count()\n",
    "    eps = 10 ** -5\n",
    "    out = func(guess)\n",
    "    if abs(guess - out) <= eps:\n",
    "        return guess \n",
    "    else:\n",
    "        return(fixed_point(func, out, counter))\n",
    "    \n",
    "def newton_method(func, func_deriv, guess, counter):\n",
    "    \"\"\"\n",
    "    Solves an equation numerically using newton's method algorithm\n",
    "    \n",
    "    Arguments:\n",
    "    func = function to solve\n",
    "    func_deriv = function's derivative\n",
    "    guess\n",
    "    counter = object of class Counter\n",
    "    \n",
    "    returns:\n",
    "    root\n",
    "    \"\"\"\n",
    "    counter.count()\n",
    "    eps = 10 ** -5\n",
    "    x2 = guess - func(guess) / func_deriv(guess)\n",
    "    \n",
    "    if abs(x2 - guess) <= eps:\n",
    "        return(guess)\n",
    "    else:\n",
    "        return(newton_method(func, func_deriv, x2, counter))"
   ]
  },
  {
   "cell_type": "markdown",
   "id": "74900417",
   "metadata": {},
   "source": [
    "# Bisection method"
   ]
  },
  {
   "cell_type": "code",
   "execution_count": 5,
   "id": "a809ea20",
   "metadata": {},
   "outputs": [
    {
     "name": "stdout",
     "output_type": "stream",
     "text": [
      "Root: -2.0000038146972656\n",
      "Iterations:  17\n"
     ]
    }
   ],
   "source": [
    "counter = Counter()\n",
    "print(f\"Root: {bisection_method(func1, -3, -1.5, counter)}\")\n",
    "print(\"Iterations: \", counter.get_count())"
   ]
  },
  {
   "cell_type": "markdown",
   "id": "9e7ebc2a",
   "metadata": {},
   "source": [
    "# Question 1\n",
    "## Fixed-point method\n",
    "$f(x) = 2x^2 + 6x + 4$<br>\n",
    "\n",
    "\n",
    "$g(x) = x = \\frac{-4 - 2x}{6}$"
   ]
  },
  {
   "cell_type": "code",
   "execution_count": 6,
   "id": "9993a063",
   "metadata": {
    "scrolled": true
   },
   "outputs": [
    {
     "name": "stdout",
     "output_type": "stream",
     "text": [
      "Root: -0.5000047041910579\n",
      "Iterations:  13\n"
     ]
    }
   ],
   "source": [
    "counter = Counter()\n",
    "print(f\"Root: {fixed_point(func1_2, -3, counter)}\")\n",
    "print(\"Iterations: \", counter.get_count())"
   ]
  },
  {
   "cell_type": "markdown",
   "id": "8d093865",
   "metadata": {},
   "source": [
    "## Newton's method"
   ]
  },
  {
   "cell_type": "code",
   "execution_count": 7,
   "id": "0d5a1010",
   "metadata": {},
   "outputs": [
    {
     "name": "stdout",
     "output_type": "stream",
     "text": [
      "Root: -2.0000000002328306\n",
      "Iterations:  6\n"
     ]
    }
   ],
   "source": [
    "def func1_deriv(x):\n",
    "    return(4 * x + 6)\n",
    "counter = Counter()\n",
    "print(f\"Root: {newton_method(func1, func1_deriv, -3, counter)}\")\n",
    "print(\"Iterations: \", counter.get_count())"
   ]
  },
  {
   "cell_type": "markdown",
   "id": "ad88c3a1",
   "metadata": {},
   "source": [
    "# Question 2\n",
    "## New function\n",
    "\n",
    "$let:$<br>\n",
    "$g(x) = ln(50x) + 2$<br>\n",
    "\n",
    "\n",
    "### Conditions\n",
    "\n",
    "\n",
    "1. From the plot below, the function g(x) is continuous across the interval $[2,10]$<br>\n",
    "2. ```check()``` function verifies that $g(x) \\, \\in \\, [2,10] \\, \\forall \\, x \\, \\in \\, [2,10]$"
   ]
  },
  {
   "cell_type": "code",
   "execution_count": 8,
   "id": "a9796d28",
   "metadata": {},
   "outputs": [
    {
     "data": {
      "image/png": "[encoded data removed]",
      "text/plain": [
       "<Figure size 432x288 with 1 Axes>"
      ]
     },
     "metadata": {
      "needs_background": "light"
     },
     "output_type": "display_data"
    }
   ],
   "source": [
    "def func2(x):\n",
    "    return(np.log(50 * x) + 2)\n",
    "x = np.arange(2, 10, 0.1)\n",
    "y = func2(x)\n",
    "plt.plot(x, x, label='g(x) = x')\n",
    "plt.plot(x, y, label='g(x) = ln(5x - 2)')\n",
    "plt.legend()\n",
    "plt.show()"
   ]
  },
  {
   "cell_type": "code",
   "execution_count": 9,
   "id": "9edd3b4d",
   "metadata": {},
   "outputs": [
    {
     "data": {
      "text/plain": [
       "True"
      ]
     },
     "execution_count": 9,
     "metadata": {},
     "output_type": "execute_result"
    }
   ],
   "source": [
    "def check(func, a, b):\n",
    "    if func(a) >= a and func(b) <= b:\n",
    "        return True\n",
    "    else: \n",
    "        return False\n",
    "    \n",
    "check(func2, 2, 10)"
   ]
  },
  {
   "cell_type": "code",
   "execution_count": 10,
   "id": "c16132fa",
   "metadata": {
    "scrolled": true
   },
   "outputs": [
    {
     "name": "stdout",
     "output_type": "stream",
     "text": [
      "Root: 7.990235365621497\n"
     ]
    }
   ],
   "source": [
    "counter = Counter()\n",
    "print(f\"Root: {fixed_point(func2, 6, counter)}\")"
   ]
  },
  {
   "cell_type": "markdown",
   "id": "2d4bf6b0",
   "metadata": {},
   "source": [
    "# Question 3\n",
    "## Bisection method"
   ]
  },
  {
   "cell_type": "code",
   "execution_count": 11,
   "id": "5850191f",
   "metadata": {},
   "outputs": [
    {
     "name": "stdout",
     "output_type": "stream",
     "text": [
      "Root: 2.1937408447265625\n"
     ]
    }
   ],
   "source": [
    "counter = Counter()\n",
    "print(f\"Root: {bisection_method(func3, 2, 3, counter)}\")"
   ]
  },
  {
   "cell_type": "markdown",
   "id": "5c580c26",
   "metadata": {},
   "source": [
    "## Newton's-method\n",
    "\n",
    "The root obtained by Newton's method was different, because $x_{guess} = 1 < x_{1} \\simeq 0.88 < x_{2} \\simeq 2.19$"
   ]
  },
  {
   "cell_type": "code",
   "execution_count": 12,
   "id": "19843d70",
   "metadata": {},
   "outputs": [
    {
     "name": "stdout",
     "output_type": "stream",
     "text": [
      "Root: 0.8842181386038656\n"
     ]
    }
   ],
   "source": [
    "counter = Counter()\n",
    "def func3_deriv(x):\n",
    "    if type(x) != 'float' or type(x) != 'int':\n",
    "        return(np.exp(x) - 5)\n",
    "    else:\n",
    "        return(exp(x) - 5)\n",
    "print(f\"Root: {newton_method(func3, func3_deriv, 1, counter)}\")"
   ]
  },
  {
   "cell_type": "markdown",
   "id": "8ccc2383",
   "metadata": {},
   "source": [
    "# Question 4"
   ]
  },
  {
   "cell_type": "code",
   "execution_count": 13,
   "id": "00e55909",
   "metadata": {},
   "outputs": [
    {
     "name": "stdout",
     "output_type": "stream",
     "text": [
      "Root: 1.3688077926635742\n"
     ]
    }
   ],
   "source": [
    "print(f\"Root: {bisection_method(func4, 0, 3, counter)}\")"
   ]
  },
  {
   "cell_type": "markdown",
   "id": "c2a68078",
   "metadata": {},
   "source": [
    "# Visualizing the functions"
   ]
  },
  {
   "cell_type": "code",
   "execution_count": 3,
   "id": "efb0caaa",
   "metadata": {},
   "outputs": [
    {
     "data": {
      "image/png": "[encoded data removed]",
      "text/plain": [
       "<Figure size 576x576 with 4 Axes>"
      ]
     },
     "metadata": {
      "needs_background": "light"
     },
     "output_type": "display_data"
    },
    {
     "data": {
      "image/png": "[encoded data removed]",
      "text/plain": [
       "<Figure size 288x288 with 1 Axes>"
      ]
     },
     "metadata": {
      "needs_background": "light"
     },
     "output_type": "display_data"
    }
   ],
   "source": [
    "fig, axs = plt.subplots(2, 2, figsize=(8,8))\n",
    "\n",
    "x = np.arange(-10, 10, 0.1)\n",
    "y = func1(x)\n",
    "axs[0,0].axhline(y=0, color='indianred', linestyle='--')\n",
    "axs[0,0].axvline(x=0, color='indianred', linestyle='--')\n",
    "axs[0,0].plot(x, y, label='f(x) = 2x^2 + 6x + 4')\n",
    "axs[0,0].legend()\n",
    "\n",
    "x = np.arange(-3, 3, 0.1)\n",
    "g_x = func1_2(x)\n",
    "axs[0,1].axhline(y=0, color='indianred', linestyle='--')\n",
    "axs[0,1].axvline(x=0, color='indianred', linestyle='--')\n",
    "axs[0,1].plot(x, g_x, label='g(x) = -2/3 - 1/3 x')\n",
    "axs[0,1].plot(x, x, label='g(x) = x')\n",
    "axs[0,1].legend()\n",
    "    \n",
    "x = np.arange(2, 10, 0.1)\n",
    "y = func2(x)\n",
    "axs[1,0].plot(x, x, label='g(x) = x')\n",
    "axs[1,0].plot(x, y, label='g(x) = ln(50x + 2)')\n",
    "axs[1,0].legend()\n",
    "\n",
    "x = np.arange(-3, 3, 0.1)\n",
    "y = func3(x) \n",
    "axs[1,1].axhline(y=0, color='indianred', linestyle='--')\n",
    "axs[1,1].axvline(x=0, color='indianred', linestyle='--')\n",
    "axs[1,1].plot(x, y, label='f(x) = exp(x) - 5x + 2')\n",
    "axs[1,1].legend()\n",
    "plt.show()\n",
    "\n",
    "fig, ax = plt.subplots(figsize=(4,4))\n",
    "x = np.arange(-3, 3, 0.1)\n",
    "y = func4(x) \n",
    "ax.axhline(y=0, color='indianred', linestyle='--')\n",
    "ax.axvline(x=0, color='indianred', linestyle='--')\n",
    "ax.plot(x, y, label='f(x) = x^3 + 2x^2 + 10x - 20')\n",
    "ax.legend()\n",
    "plt.show()"
   ]
  }
 ],
 "metadata": {
  "kernelspec": {
   "display_name": "Python 3",
   "language": "python",
   "name": "python3"
  },
  "language_info": {
   "codemirror_mode": {
    "name": "ipython",
    "version": 3
   },
   "file_extension": ".py",
   "mimetype": "text/x-python",
   "name": "python",
   "nbconvert_exporter": "python",
   "pygments_lexer": "ipython3",
   "version": "3.8.5"
  }
 },
 "nbformat": 4,
 "nbformat_minor": 5
}
